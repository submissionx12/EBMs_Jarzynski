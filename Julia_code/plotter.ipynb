{
 "cells": [
  {
   "attachments": {},
   "cell_type": "markdown",
   "metadata": {},
   "source": [
    "To launch the experiment do `julia train.jl`. This notebook plots the results. "
   ]
  },
  {
   "cell_type": "code",
   "execution_count": null,
   "metadata": {},
   "outputs": [],
   "source": [
    "using Plots, LaTeXStrings\n",
    "include(\"./train.jl\")\n",
    "lw=5\n",
    "kwargs = Dict(:lw => 4, :legend=> :inside, :alpha => 0.6);"
   ]
  },
  {
   "cell_type": "code",
   "execution_count": null,
   "metadata": {},
   "outputs": [],
   "source": [
    "s=1.4 # true value in all experiments\n",
    "p=σ(1.4)\n",
    "dt=0.01;\n",
    "T = 10000 # change with number of training steps * dt =  training time"
   ]
  },
  {
   "cell_type": "code",
   "execution_count": null,
   "metadata": {},
   "outputs": [],
   "source": [
    "@load \"./PCD.bson\" logger\n",
    "logger_pcd = logger\n",
    "times = dt*logger_pcd.t"
   ]
  },
  {
   "cell_type": "code",
   "execution_count": null,
   "metadata": {},
   "outputs": [],
   "source": [
    "let p1 = plot(times, logger_pcd.s, label=nothing; kwargs...), \n",
    "    p2 = plot(times, 1 .- logger_pcd.p, label=nothing, ylims=(0,1); kwargs...)\n",
    "    plot!(p1, xticks=[0.1, 1, 10, 100, 1000, 10000], ylabel=L\"$z(t)$\", xlims=(0.01,T), ylims=(-1, 2))\n",
    "    plot!(p2, xticks=[0.1, 1, 10, 100, 1000, 10000], xlabel=L\"time $t$\", ylabel=L\"$z(t)$\", xlims=(0.01,T), ylims=(0, 1), yticks=[0, 0.5, 1])\n",
    "    plot!(p2, ylabel = L\"$q(t)$\", legendfont=10)\n",
    "    hline!(p1, [s], lw=2, label=nothing, color=:black)\n",
    "    plot!(p1, xaxis=:log)\n",
    "    hline!(p2, [1 .- p], label=nothing, lw=2, color=:black)\n",
    "    plot!(p2, xaxis=:log)\n",
    "    plot(p1, p2, layout=(2,1), size=(400,400))\n",
    "    #savefig(\"./PCD.pdf\")\n",
    "end"
   ]
  },
  {
   "cell_type": "code",
   "execution_count": null,
   "metadata": {},
   "outputs": [],
   "source": [
    "@load \"./UNW.bson\" logger\n",
    "logger_unw = logger\n",
    "\n",
    "let p1 = plot(times, logger_unw.s, label=nothing; kwargs...), \n",
    "    p2 = plot(times, 1 .- logger_unw.p, label=nothing, ylims=(0,1); kwargs...)\n",
    "    plot!(p1, xticks=[0.1, 1, 10, 100, 1000, 10000], ylabel=L\"$z(t)$\", xlims=(0.01,T), ylims=(-1, 2), legend=:bottomright, legendfont=10)\n",
    "    plot!(p2, xticks=[0.1, 1, 10, 100, 1000, 10000], xlabel=L\"t\", ylabel=L\"$z(t)$\", xlims=(0.01,T), ylims=(0, 1), yticks=[0, 0.5, 1])\n",
    "    plot!(p2, ylabel = L\"$q(t)$\",xlabel=L\"time $t$\", legendfont=10, legend=:topright)\n",
    "    hline!(p1, [s], lw=2, label=nothing, color=:black)\n",
    "    plot!(p1, xaxis=:log)\n",
    "\n",
    "    hline!(p2, [1 .- logger_unw.qhat], label=nothing, lw=2, color=:black)\n",
    "    plot!(p2, xaxis=:log)\n",
    "    plot(p1, p2, layout=(2,1), size=(400,400))\n",
    "    #savefig(\"./PCD.pdf\")\n",
    "end"
   ]
  },
  {
   "cell_type": "code",
   "execution_count": null,
   "metadata": {},
   "outputs": [],
   "source": [
    "@load \"./JAR.bson\" logger\n",
    "logger_jar = logger\n",
    "val = σinv(logger_jar.qhat) - log(logger_jar.pzero/(1-logger_jar.pzero)) + logger_jar.s[1]\n",
    "\n",
    "let p1 = plot(times, logger_jar.s, label=L\"$z(t)$\"; kwargs...), \n",
    "    p2 = plot(times, 1 .- logger_jar.p, label=L\"$q(t)$\", ylims=(0,1); kwargs...)\n",
    "    plot!(p1, xticks=[0.1, 1, 10, 100, 1000, 10000], ylabel=L\"$z(t)$\", xlims=(0.01,T), ylims=(-1, 2), legendfont=10, legend=:bottomright)\n",
    "    plot!(p2, xticks=[0.1, 1, 10, 100, 1000, 10000], ylabel=L\"$z(t)$\", xlims=(0.01,T), ylims=(0, 1), yticks=[0, 0.5, 1])\n",
    "\n",
    "    plot!(p2, ylabel = L\"$q(t)$\",xlabel=L\"time $t$\", legendfont=10, legend=:topright)\n",
    "    hline!(p1, [σinv(logger_jar.qhat)], lw=2, label=nothing, color=:black)\n",
    "    hline!(p1, [val], label=L\"$\\tilde{z}_*$\", lw=2)\n",
    "    annotate!(p1, 0.1, 1.6, text(L\"$z_*$\", textfont=10))\n",
    "    annotate!(p2, 0.1, 0.27, text(L\"$q_*$\"))\n",
    "    plot!(p1, xaxis=:log)\n",
    "    hline!(p2, [1 .- logger_jar.qhat], label=nothing, lw=2, color=:black)\n",
    "    plot!(p2, xaxis=:log)\n",
    "    plot(p1, p2, layout=(2,1), size=(400,400))\n",
    "    #savefig(\"./JAR.pdf\")\n",
    "end"
   ]
  }
 ],
 "metadata": {
  "kernelspec": {
   "display_name": "Julia 1.9.0",
   "language": "julia",
   "name": "julia-1.9"
  },
  "language_info": {
   "file_extension": ".jl",
   "mimetype": "application/julia",
   "name": "julia",
   "version": "1.9.0"
  },
  "orig_nbformat": 4
 },
 "nbformat": 4,
 "nbformat_minor": 2
}
